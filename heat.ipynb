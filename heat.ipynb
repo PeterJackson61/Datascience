{
 "cells": [
  {
   "cell_type": "markdown",
   "id": "f021b80e-8d15-47ee-ae20-39347e281fa9",
   "metadata": {},
   "source": [
    "# Solving the two-dimensional heat equation"
   ]
  },
  {
   "cell_type": "markdown",
   "id": "53c4ddce-9adf-463f-80f7-b9e83cd3e615",
   "metadata": {},
   "source": [
    "References:\n",
    "- [Medium](https://levelup.gitconnected.com/solving-2d-heat-equation-numerically-using-python-3334004aa01a)\n",
    "- [scipython](https://scipython.com/book/chapter-7-matplotlib/examples/the-two-dimensional-diffusion-equation/)"
   ]
  },
  {
   "cell_type": "code",
   "execution_count": null,
   "id": "74f72c4e-12d9-427d-8e65-5b90a221d14c",
   "metadata": {},
   "outputs": [],
   "source": [
    "import numpy as np\n",
    "import matplotlib.pyplot as plt\n",
    "import matplotlib.animation as animation\n",
    "from matplotlib.animation import FuncAnimation\n",
    "from IPython.display import HTML\n",
    "from IPython.display import display"
   ]
  },
  {
   "cell_type": "code",
   "execution_count": null,
   "id": "25e5f120-cd71-4aff-9580-b540fc3d3c00",
   "metadata": {},
   "outputs": [],
   "source": [
    "plate_length = 50\n",
    "time_steps = 500\n",
    "\n",
    "# Diffusivity\n",
    "alpha = 2.\n",
    "delta_x = 1.\n",
    "# delta_y = delta_x\n",
    "\n",
    "# Choose time step to ensure stability of explicit Euler\n",
    "delta_t = (delta_x ** 2)/(4 * alpha)\n",
    "gamma = (alpha * delta_t) / (delta_x ** 2)"
   ]
  },
  {
   "cell_type": "code",
   "execution_count": null,
   "id": "b49880b0-ed55-40e2-997e-0686905eb8ef",
   "metadata": {},
   "outputs": [],
   "source": [
    "# Initialize solution (zero)\n",
    "u_without_bc = np.zeros((time_steps, plate_length, plate_length))\n",
    "\n",
    "\n",
    "# Boundary conditions\n",
    "u_top = 100.0\n",
    "u_left = 0.0\n",
    "u_bottom = 0.0\n",
    "u_right = 0.0"
   ]
  },
  {
   "cell_type": "markdown",
   "id": "8af587d2",
   "metadata": {},
   "source": [
    "Write a function to set the boundary conditions according to the parameters defined in\n",
    "the cell above."
   ]
  },
  {
   "cell_type": "code",
   "execution_count": null,
   "id": "eef8909e",
   "metadata": {},
   "outputs": [],
   "source": [
    "def set_boundary_conditions(u, plate_length, u_top, u_left, u_bottom, u_right):\n",
    "    # ...\n",
    "    return u\n",
    "\n",
    "\n",
    "u_0 = set_boundary_conditions(u_without_bc, plate_length, u_top, u_left, u_bottom, u_right)"
   ]
  },
  {
   "cell_type": "code",
   "execution_count": null,
   "id": "b788cb38",
   "metadata": {},
   "outputs": [],
   "source": [
    "#@title Solution\n",
    "\n",
    "def set_boundary_conditions(u, plate_length, u_top, u_left, u_bottom, u_right):\n",
    "    u[:, (plate_length-1):, :] = u_top\n",
    "    u[:, :, :1] = u_left\n",
    "    u[:, :1, 1:] = u_bottom\n",
    "    u[:, :, (plate_length-1):] = u_right\n",
    "    return u\n",
    "\n",
    "\n",
    "u_0 = set_boundary_conditions(u_without_bc, plate_length, u_top, u_left, u_bottom, u_right)"
   ]
  },
  {
   "cell_type": "markdown",
   "id": "f93441c2",
   "metadata": {},
   "source": [
    "Follow the references above and implement the discretization/time integration method to\n",
    "compute the solution of the heat equation. The initial condition `u_0` must be passed to\n",
    "the function `solve`."
   ]
  },
  {
   "cell_type": "code",
   "execution_count": null,
   "id": "bc498723",
   "metadata": {},
   "outputs": [],
   "source": [
    "def solve(u):\n",
    "    # Time integration\n",
    "    for k in range(0, time_steps-1):\n",
    "        # Update solution using explicit Euler (1st order)\n",
    "        # Space derivative discretized using finite differences\n",
    "    return u"
   ]
  },
  {
   "cell_type": "code",
   "execution_count": null,
   "id": "361a10d2-4e4a-468a-ab45-c80bc2c83835",
   "metadata": {},
   "outputs": [],
   "source": [
    "#@title Solution\n",
    "\n",
    "def solve(u):\n",
    "    # Time integration\n",
    "    for k in range(0, time_steps-1):\n",
    "        # Update solution using explicit Euler (1st order)\n",
    "        # Space derivative discretized using finite differences\n",
    "        u[k+1, 1:-1, 1:-1] = u[k,1:-1, 1:-1] + gamma*(u[k, 2:, 1:-1] - 2*u[k,1:-1, 1:-1] + u[k,:-2, 1:-1] + u[k,1:-1, 2:] - 2*u[k,1:-1, 1:-1] + u[k,1:-1, :-2])\n",
    "    return u"
   ]
  },
  {
   "cell_type": "code",
   "execution_count": null,
   "id": "1371d8e9-6919-4361-91be-10361ec1a9db",
   "metadata": {},
   "outputs": [],
   "source": [
    "# Contour plot of the solution at time step k\n",
    "def plotheatmap(u_k, k):\n",
    "    plt.clf()\n",
    "\n",
    "    plt.title(f\"Temperature at t = {k*delta_t:.3f}\")\n",
    "    plt.xlabel(\"x\")\n",
    "    plt.ylabel(\"y\")\n",
    "\n",
    "    plt.pcolormesh(u_k, cmap=plt.cm.jet, vmin=0, vmax=100)\n",
    "    plt.colorbar()\n",
    "\n",
    "    return plt\n",
    "\n",
    "# Compute the solution of the heat equation\n",
    "u = solve(u_0)\n",
    "print(\"Done!\")\n",
    "\n",
    "# Animation of the solution\n",
    "def animate(k):\n",
    "    plotheatmap(u[k], k)\n",
    "\n",
    "\n",
    "anim = animation.FuncAnimation(plt.figure(), animate, interval=1, frames=time_steps, repeat=False)\n",
    "display(HTML(anim.to_jshtml()))"
   ]
  },
  {
   "cell_type": "code",
   "execution_count": null,
   "id": "75b22b6f-12b3-4452-b392-eac297022358",
   "metadata": {},
   "outputs": [],
   "source": [
    "# new boundary conditions\n",
    "u_top = 0.0\n",
    "u_left = 0.0\n",
    "u_bottom = 0.0\n",
    "u_right = 0.0\n",
    "\n",
    "# new initial condition (random temperature between 28.5 and 55.5 degree)\n",
    "u_without_bc = np.random.uniform(low=28.5, high=55.5, size=(time_steps,plate_length,plate_length))\n",
    "\n",
    "# update the bc\n",
    "u = set_boundary_conditions(u_without_bc, plate_length, u_top, u_left, u_bottom, u_right)\n",
    "\n",
    "u = solve(u)\n",
    "print(\"Done!\")\n",
    "\n",
    "anim = animation.FuncAnimation(plt.figure(), animate, interval=1, frames=time_steps, repeat=False)\n",
    "display(HTML(anim.to_jshtml()))"
   ]
  }
 ],
 "metadata": {
  "kernelspec": {
   "display_name": "Python 3 (ipykernel)",
   "language": "python",
   "name": "python3"
  },
  "language_info": {
   "codemirror_mode": {
    "name": "ipython",
    "version": 3
   },
   "file_extension": ".py",
   "mimetype": "text/x-python",
   "name": "python",
   "nbconvert_exporter": "python",
   "pygments_lexer": "ipython3",
   "version": "3.12.5"
  }
 },
 "nbformat": 4,
 "nbformat_minor": 5
}
